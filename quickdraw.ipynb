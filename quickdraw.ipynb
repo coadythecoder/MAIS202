{
 "cells": [
  {
   "cell_type": "markdown",
   "metadata": {},
   "source": [
    "### Import Statements"
   ]
  },
  {
   "cell_type": "code",
   "execution_count": 93,
   "metadata": {},
   "outputs": [],
   "source": [
    "import numpy as np\n",
    "import pandas as pd\n",
    "import sklearn as sk\n",
    "import tensorflow as tf\n",
    "from tensorflow.keras import layers, models\n",
    "from tensorflow.keras.utils import to_categorical\n",
    "from sklearn.preprocessing import LabelEncoder\n",
    "import matplotlib.pyplot as mpl\n",
    "import json\n",
    "from PIL import Image, ImageDraw\n",
    "import glob\n",
    "import os\n",
    "from sklearn.model_selection import train_test_split\n",
    "from sklearn.utils import shuffle"
   ]
  },
  {
   "cell_type": "code",
   "execution_count": 94,
   "metadata": {},
   "outputs": [],
   "source": [
    "def read_and_label_files(folder_path):\n",
    "    all_drawings = []\n",
    "    for file_path in glob.glob(os.path.join(folder_path, '*.ndjson')):\n",
    "        with open(file_path, 'r') as file:\n",
    "            for line in file:\n",
    "                drawing_data = json.loads(line)\n",
    "                # Extract drawing and label\n",
    "                drawing = drawing_data['drawing']\n",
    "                label = drawing_data['word']\n",
    "                # Append to the list as a tuple (drawing, label)\n",
    "                all_drawings.append((drawing, label))\n",
    "    return all_drawings\n",
    "\n",
    "def shuffle_data(data, seed=42):\n",
    "    # Shuffle the data to mix categories\n",
    "    shuffled_data = shuffle(data, random_state=seed)\n",
    "    return shuffled_data\n",
    "\n",
    "def create_batches(data, batch_size=50):\n",
    "    for i in range(0, len(data), batch_size):\n",
    "        batch_data = data[i:i+batch_size]\n",
    "        yield batch_data"
   ]
  },
  {
   "cell_type": "code",
   "execution_count": 95,
   "metadata": {},
   "outputs": [],
   "source": [
    "def get_labels(folder_path):\n",
    "    \"\"\"Get all file paths and labels in the given folder.\"\"\"\n",
    "    file_paths = glob.glob(os.path.join(folder_path, '*.ndjson'))\n",
    "    labels = [os.path.basename(path).split('.')[0] for path in file_paths] # Assumes the file name represents the category\n",
    "    return labels\n",
    "\n",
    "folder_path = \"reduced_data/\"\n",
    "labels = get_labels(folder_path)\n",
    "label_encoder = LabelEncoder()\n",
    "label_encoder.fit(labels)  # Fit on all possible labels\n",
    "\n",
    "data = shuffle_data(read_and_label_files(folder_path))\n",
    "\n",
    "train_data, test_data = train_test_split(data, test_size=0.2, random_state=42)"
   ]
  },
  {
   "cell_type": "code",
   "execution_count": 96,
   "metadata": {},
   "outputs": [],
   "source": [
    "def strokes_to_image(strokes, image_size=(256, 256)):\n",
    "    \"\"\"Convert stroke data to an image.\"\"\"\n",
    "    image = Image.new(\"L\", image_size, color=0)\n",
    "    draw = ImageDraw.Draw(image)\n",
    "    \n",
    "    for stroke in strokes:\n",
    "        for i in range(len(stroke[0]) - 1):\n",
    "            draw.line([stroke[0][i], stroke[1][i], stroke[0][i + 1], stroke[1][i + 1]], fill=255, width=2)\n",
    "\n",
    "    return np.array(image)\n",
    "\n",
    "\n",
    "def load_data_in_batches(data, batch_size=50, image_size=(256, 256), num_classes=345):\n",
    "    \"\"\"Load and preprocess data directly from tuples in batches, with labels one-hot encoded.\"\"\"\n",
    "    batch_X, batch_y = [], []\n",
    "    for drawing, label in data:\n",
    "        image = strokes_to_image(drawing, image_size=image_size)\n",
    "        batch_X.append(image)\n",
    "        \n",
    "        label_idx = label_encoder.transform([label])[0]  # Convert label to index\n",
    "        label_one_hot = to_categorical(label_idx, num_classes=num_classes)\n",
    "        batch_y.append(label_one_hot)\n",
    "\n",
    "        if len(batch_X) == batch_size:\n",
    "            yield (np.array(batch_X), np.array(batch_y))\n",
    "            batch_X, batch_y = [], []\n",
    "\n",
    "    if batch_X:  # Yield any remaining data as the last batch\n",
    "        yield (np.array(batch_X), np.array(batch_y))\n",
    "\n",
    "\n",
    "# Example usage\n",
    "\n",
    "\n",
    "# Model definition\n",
    "def create_model(input_shape, num_classes):\n",
    "    model = models.Sequential()\n",
    "    model.add(layers.Conv2D(32, (3, 3), activation='relu', input_shape=input_shape))\n",
    "    model.add(layers.MaxPooling2D((2, 2)))\n",
    "    model.add(layers.Conv2D(64, (3, 3), activation='relu'))\n",
    "    model.add(layers.MaxPooling2D((2, 2)))\n",
    "    model.add(layers.Conv2D(128, (3, 3), activation='relu'))\n",
    "    model.add(layers.Flatten())\n",
    "    model.add(layers.Dense(512, activation='relu'))\n",
    "    model.add(layers.Dense(num_classes, activation='softmax'))\n",
    "    return model\n",
    "\n",
    "\n",
    "\n"
   ]
  },
  {
   "cell_type": "code",
   "execution_count": 97,
   "metadata": {},
   "outputs": [],
   "source": [
    "# Assuming you have a way to determine the input shape and number of classes\n",
    "model = create_model(input_shape=(256, 256, 1), num_classes=345)\n",
    "model.compile(optimizer='adam', loss='categorical_crossentropy', metrics=['AUC'])"
   ]
  },
  {
   "cell_type": "code",
   "execution_count": null,
   "metadata": {},
   "outputs": [],
   "source": [
    "# Assuming `load_data_in_batches` is corrected to encode labels within it\n",
    "train_generator = load_data_in_batches(train_data, batch_size=256)\n",
    "test_generator = load_data_in_batches(test_data, batch_size=256)\n",
    "\n",
    "# Calculate steps per epoch for training and validation\n",
    "steps_per_epoch = len(train_data) // 256\n",
    "validation_steps = len(test_data) // 256\n",
    "\n",
    "# Training with validation\n",
    "model.fit(train_generator, \n",
    "          epochs=10,  # Or however many epochs you wish to train for\n",
    "          steps_per_epoch=steps_per_epoch,\n",
    "          validation_data=test_generator,\n",
    "          validation_steps=validation_steps)\n"
   ]
  },
  {
   "cell_type": "code",
   "execution_count": null,
   "metadata": {},
   "outputs": [],
   "source": [
    "model.save('my_model.h5')"
   ]
  }
 ],
 "metadata": {
  "kernelspec": {
   "display_name": "Python 3",
   "language": "python",
   "name": "python3"
  },
  "language_info": {
   "codemirror_mode": {
    "name": "ipython",
    "version": 3
   },
   "file_extension": ".py",
   "mimetype": "text/x-python",
   "name": "python",
   "nbconvert_exporter": "python",
   "pygments_lexer": "ipython3",
   "version": "3.11.7"
  }
 },
 "nbformat": 4,
 "nbformat_minor": 2
}
